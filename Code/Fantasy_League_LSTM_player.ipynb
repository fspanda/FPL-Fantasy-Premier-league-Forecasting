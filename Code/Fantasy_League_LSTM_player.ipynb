{
  "nbformat": 4,
  "nbformat_minor": 0,
  "metadata": {
    "colab": {
      "name": "Fantasy League_LSTM_player.ipynb",
      "provenance": [],
      "machine_shape": "hm",
      "mount_file_id": "1Yi2hT1nX30kA42EaiE20WveC2M2vYx2n",
      "authorship_tag": "ABX9TyM2eGNr92kLAsonlpLCAIkM",
      "include_colab_link": true
    },
    "kernelspec": {
      "name": "python3",
      "display_name": "Python 3"
    },
    "accelerator": "GPU"
  },
  "cells": [
    {
      "cell_type": "markdown",
      "metadata": {
        "id": "view-in-github",
        "colab_type": "text"
      },
      "source": [
        "<a href=\"https://colab.research.google.com/github/fspanda/FPL-Fantasy-Premier-league-Forecasting/blob/main/Code/Fantasy_League_LSTM_player.ipynb\" target=\"_parent\"><img src=\"https://colab.research.google.com/assets/colab-badge.svg\" alt=\"Open In Colab\"/></a>"
      ]
    },
    {
      "cell_type": "code",
      "metadata": {
        "colab": {
          "base_uri": "https://localhost:8080/"
        },
        "id": "u8fjWWTbXylQ",
        "outputId": "b58d1580-4715-4057-aec0-fa6ac74b2b35"
      },
      "source": [
        "!git clone https://github.com/vaastav/Fantasy-Premier-League.git"
      ],
      "execution_count": 1,
      "outputs": [
        {
          "output_type": "stream",
          "text": [
            "Cloning into 'Fantasy-Premier-League'...\n",
            "remote: Enumerating objects: 5982, done.\u001b[K\n",
            "remote: Counting objects: 100% (5982/5982), done.\u001b[K\n",
            "remote: Compressing objects: 100% (3150/3150), done.\u001b[K\n",
            "remote: Total 119401 (delta 2456), reused 5289 (delta 2329), pack-reused 113419\u001b[K\n",
            "Receiving objects: 100% (119401/119401), 39.61 MiB | 23.43 MiB/s, done.\n",
            "Resolving deltas: 100% (55602/55602), done.\n"
          ],
          "name": "stdout"
        }
      ]
    },
    {
      "cell_type": "code",
      "metadata": {
        "id": "halK2MEiO9oO"
      },
      "source": [
        "import os\r\n",
        "\r\n",
        "file_list = os.listdir('/content/Fantasy-Premier-League/data/2019-20/players')\r\n",
        "file_list"
      ],
      "execution_count": null,
      "outputs": []
    },
    {
      "cell_type": "code",
      "metadata": {
        "id": "d5etQ6mUPNhU"
      },
      "source": [
        "import pandas as pd\r\n",
        "first = True\r\n",
        "for name in file_list:  \r\n",
        "\r\n",
        "\r\n",
        "  file=pd.read_csv(\"/content/Fantasy-Premier-League/data/2019-20/players/{}/gw.csv\".format(name))\r\n",
        "  file_length=len(file)\r\n",
        "  tmp_X=file.drop('total_points',axis=1)\r\n",
        "\r\n",
        "  tmp_Y=file[['total_points']]\r\n",
        "  tmp_Y=tmp_Y.drop(0,axis=0)  \r\n",
        "  tmp_X=tmp_X.drop(file_length-1,axis=0)\r\n",
        "  tmp_X=tmp_X.drop(\"kickoff_time\",axis=1)\r\n",
        "  if first:\r\n",
        "    first=False\r\n",
        "    train_X=tmp_X\r\n",
        "    train_Y=tmp_Y\r\n",
        "  train_X=pd.concat([train_X,tmp_X])\r\n",
        "  train_Y=pd.concat([train_Y,tmp_Y])\r\n",
        "\r\n",
        "\r\n"
      ],
      "execution_count": 5,
      "outputs": []
    },
    {
      "cell_type": "code",
      "metadata": {
        "id": "G3Pd31SrSg0u"
      },
      "source": [
        "train_X_t=train_X.values\r\n",
        "train_Y_t=train_Y.values\r\n",
        "train_X_t = train_X_t.reshape(train_X.shape[0], train_X.shape[1] , 1)\r\n",
        "train_X_t=train_X_t.astype(float)\r\n",
        "train_Y_t=train_Y.astype(float)"
      ],
      "execution_count": 6,
      "outputs": []
    },
    {
      "cell_type": "code",
      "metadata": {
        "colab": {
          "base_uri": "https://localhost:8080/"
        },
        "id": "h0M5mGBLg93y",
        "outputId": "4473399b-ed22-4fd0-90c2-2cf4adb096f2"
      },
      "source": [
        "train_X.shape"
      ],
      "execution_count": 7,
      "outputs": [
        {
          "output_type": "execute_result",
          "data": {
            "text/plain": [
              "(21873, 29)"
            ]
          },
          "metadata": {
            "tags": []
          },
          "execution_count": 7
        }
      ]
    },
    {
      "cell_type": "code",
      "metadata": {
        "id": "uuyy9Kzm_Nct"
      },
      "source": [
        "import numpy as np\r\n",
        "from sklearn.model_selection import train_test_split\r\n",
        "\r\n",
        "x_train, x_test, y_train, y_test = train_test_split(train_X_t, train_Y_t, test_size=0.1) "
      ],
      "execution_count": 13,
      "outputs": []
    },
    {
      "cell_type": "code",
      "metadata": {
        "colab": {
          "base_uri": "https://localhost:8080/"
        },
        "id": "WMKkEXVwdicm",
        "outputId": "e178bda2-137d-4254-c7b8-aea0a1485e0a"
      },
      "source": [
        "from keras.layers import LSTM \r\n",
        "from keras.models import Sequential \r\n",
        "from keras.layers import Dense \r\n",
        "import keras.backend as K \r\n",
        "from tensorflow.keras.callbacks import EarlyStopping, ModelCheckpoint\r\n",
        "\r\n",
        "\r\n",
        "model = Sequential() # Sequeatial Model \r\n",
        "model.add(LSTM(200, input_shape=(29, 1))) # (timestep, feature) \r\n",
        "\r\n",
        "model.add(Dense(1)) # output = 1\r\n",
        "model.compile(optimizer='adam', loss='mse',metrics=['mse'])\r\n",
        "model.summary()\r\n",
        "\r\n"
      ],
      "execution_count": 11,
      "outputs": [
        {
          "output_type": "stream",
          "text": [
            "Model: \"sequential_2\"\n",
            "_________________________________________________________________\n",
            "Layer (type)                 Output Shape              Param #   \n",
            "=================================================================\n",
            "lstm_2 (LSTM)                (None, 200)               161600    \n",
            "_________________________________________________________________\n",
            "dense_2 (Dense)              (None, 1)                 201       \n",
            "=================================================================\n",
            "Total params: 161,801\n",
            "Trainable params: 161,801\n",
            "Non-trainable params: 0\n",
            "_________________________________________________________________\n"
          ],
          "name": "stdout"
        }
      ]
    },
    {
      "cell_type": "code",
      "metadata": {
        "colab": {
          "base_uri": "https://localhost:8080/"
        },
        "id": "BlGxYp3od-7b",
        "outputId": "ace503dc-7503-4f83-9bba-e7a9eb814cee"
      },
      "source": [
        "es = EarlyStopping(monitor='val_mse', mode='min', verbose=1, patience=5)\r\n",
        "\r\n",
        "checkpoint_path='/content/drive/MyDrive/dacon/Fantasy_league/LSTM_train_model.h5'\r\n",
        "mc = ModelCheckpoint(checkpoint_path, monitor='val_loss', mode='min', verbose=1, save_best_only=True)\r\n",
        "\r\n",
        "history=model.fit(x_train,y_train, epochs=100, batch_size=30, verbose=1, callbacks=[mc,es],validation_split=0.1)\r\n",
        "\r\n"
      ],
      "execution_count": 14,
      "outputs": [
        {
          "output_type": "stream",
          "text": [
            "Epoch 1/100\n",
            "591/591 [==============================] - 3s 5ms/step - loss: 4.8984 - mse: 4.8984 - val_loss: 4.3114 - val_mse: 4.3114\n",
            "\n",
            "Epoch 00001: val_loss improved from inf to 4.31143, saving model to /content/drive/MyDrive/dacon/Fantasy_league/LSTM_train_model.h5\n",
            "Epoch 2/100\n",
            "591/591 [==============================] - 3s 5ms/step - loss: 4.8824 - mse: 4.8824 - val_loss: 4.3327 - val_mse: 4.3327\n",
            "\n",
            "Epoch 00002: val_loss did not improve from 4.31143\n",
            "Epoch 3/100\n",
            "591/591 [==============================] - 3s 5ms/step - loss: 4.8503 - mse: 4.8503 - val_loss: 4.3511 - val_mse: 4.3511\n",
            "\n",
            "Epoch 00003: val_loss did not improve from 4.31143\n",
            "Epoch 4/100\n",
            "591/591 [==============================] - 3s 5ms/step - loss: 4.8155 - mse: 4.8155 - val_loss: 4.4286 - val_mse: 4.4286\n",
            "\n",
            "Epoch 00004: val_loss did not improve from 4.31143\n",
            "Epoch 5/100\n",
            "591/591 [==============================] - 3s 5ms/step - loss: 4.7674 - mse: 4.7674 - val_loss: 4.1791 - val_mse: 4.1791\n",
            "\n",
            "Epoch 00005: val_loss improved from 4.31143 to 4.17914, saving model to /content/drive/MyDrive/dacon/Fantasy_league/LSTM_train_model.h5\n",
            "Epoch 6/100\n",
            "591/591 [==============================] - 3s 5ms/step - loss: 4.8081 - mse: 4.8081 - val_loss: 4.3579 - val_mse: 4.3579\n",
            "\n",
            "Epoch 00006: val_loss did not improve from 4.17914\n",
            "Epoch 7/100\n",
            "591/591 [==============================] - 3s 5ms/step - loss: 4.8777 - mse: 4.8777 - val_loss: 4.2778 - val_mse: 4.2778\n",
            "\n",
            "Epoch 00007: val_loss did not improve from 4.17914\n",
            "Epoch 8/100\n",
            "591/591 [==============================] - 3s 5ms/step - loss: 4.8408 - mse: 4.8408 - val_loss: 4.3120 - val_mse: 4.3120\n",
            "\n",
            "Epoch 00008: val_loss did not improve from 4.17914\n",
            "Epoch 9/100\n",
            "591/591 [==============================] - 3s 5ms/step - loss: 4.8528 - mse: 4.8528 - val_loss: 4.2551 - val_mse: 4.2551\n",
            "\n",
            "Epoch 00009: val_loss did not improve from 4.17914\n",
            "Epoch 10/100\n",
            "591/591 [==============================] - 3s 5ms/step - loss: 4.8055 - mse: 4.8055 - val_loss: 4.2377 - val_mse: 4.2377\n",
            "\n",
            "Epoch 00010: val_loss did not improve from 4.17914\n",
            "Epoch 00010: early stopping\n"
          ],
          "name": "stdout"
        }
      ]
    },
    {
      "cell_type": "code",
      "metadata": {
        "id": "clIAh6uNK6Z_"
      },
      "source": [
        "predict=model.predict(x_test)"
      ],
      "execution_count": 20,
      "outputs": []
    },
    {
      "cell_type": "code",
      "metadata": {
        "colab": {
          "base_uri": "https://localhost:8080/",
          "height": 419
        },
        "id": "WFblTuCh_olc",
        "outputId": "f9e2e2bc-6c61-4900-8f32-3badb7185d1c"
      },
      "source": [
        "y_test"
      ],
      "execution_count": 19,
      "outputs": [
        {
          "output_type": "execute_result",
          "data": {
            "text/html": [
              "<div>\n",
              "<style scoped>\n",
              "    .dataframe tbody tr th:only-of-type {\n",
              "        vertical-align: middle;\n",
              "    }\n",
              "\n",
              "    .dataframe tbody tr th {\n",
              "        vertical-align: top;\n",
              "    }\n",
              "\n",
              "    .dataframe thead th {\n",
              "        text-align: right;\n",
              "    }\n",
              "</style>\n",
              "<table border=\"1\" class=\"dataframe\">\n",
              "  <thead>\n",
              "    <tr style=\"text-align: right;\">\n",
              "      <th></th>\n",
              "      <th>total_points</th>\n",
              "    </tr>\n",
              "  </thead>\n",
              "  <tbody>\n",
              "    <tr>\n",
              "      <th>25</th>\n",
              "      <td>0.0</td>\n",
              "    </tr>\n",
              "    <tr>\n",
              "      <th>19</th>\n",
              "      <td>7.0</td>\n",
              "    </tr>\n",
              "    <tr>\n",
              "      <th>20</th>\n",
              "      <td>2.0</td>\n",
              "    </tr>\n",
              "    <tr>\n",
              "      <th>25</th>\n",
              "      <td>1.0</td>\n",
              "    </tr>\n",
              "    <tr>\n",
              "      <th>35</th>\n",
              "      <td>1.0</td>\n",
              "    </tr>\n",
              "    <tr>\n",
              "      <th>...</th>\n",
              "      <td>...</td>\n",
              "    </tr>\n",
              "    <tr>\n",
              "      <th>16</th>\n",
              "      <td>1.0</td>\n",
              "    </tr>\n",
              "    <tr>\n",
              "      <th>35</th>\n",
              "      <td>7.0</td>\n",
              "    </tr>\n",
              "    <tr>\n",
              "      <th>35</th>\n",
              "      <td>0.0</td>\n",
              "    </tr>\n",
              "    <tr>\n",
              "      <th>25</th>\n",
              "      <td>0.0</td>\n",
              "    </tr>\n",
              "    <tr>\n",
              "      <th>3</th>\n",
              "      <td>0.0</td>\n",
              "    </tr>\n",
              "  </tbody>\n",
              "</table>\n",
              "<p>2188 rows × 1 columns</p>\n",
              "</div>"
            ],
            "text/plain": [
              "    total_points\n",
              "25           0.0\n",
              "19           7.0\n",
              "20           2.0\n",
              "25           1.0\n",
              "35           1.0\n",
              "..           ...\n",
              "16           1.0\n",
              "35           7.0\n",
              "35           0.0\n",
              "25           0.0\n",
              "3            0.0\n",
              "\n",
              "[2188 rows x 1 columns]"
            ]
          },
          "metadata": {
            "tags": []
          },
          "execution_count": 19
        }
      ]
    },
    {
      "cell_type": "code",
      "metadata": {
        "colab": {
          "base_uri": "https://localhost:8080/"
        },
        "id": "DjWbnRpzfEA8",
        "outputId": "18b22566-5a96-4cfd-e01f-ca4b28a6e49a"
      },
      "source": [
        "test_mse_score = model.evaluate(x_test, y_test)"
      ],
      "execution_count": 21,
      "outputs": [
        {
          "output_type": "stream",
          "text": [
            "69/69 [==============================] - 0s 3ms/step - loss: 4.1468 - mse: 4.1468\n"
          ],
          "name": "stdout"
        }
      ]
    },
    {
      "cell_type": "code",
      "metadata": {
        "colab": {
          "base_uri": "https://localhost:8080/"
        },
        "id": "jEpWj5HA_yHg",
        "outputId": "dacd62c3-2728-488b-d446-3a1ee50a5cab"
      },
      "source": [
        "test_mse_score"
      ],
      "execution_count": 23,
      "outputs": [
        {
          "output_type": "execute_result",
          "data": {
            "text/plain": [
              "4.146814346313477"
            ]
          },
          "metadata": {
            "tags": []
          },
          "execution_count": 23
        }
      ]
    },
    {
      "cell_type": "code",
      "metadata": {
        "colab": {
          "base_uri": "https://localhost:8080/",
          "height": 265
        },
        "id": "FqisEMdhqtgq",
        "outputId": "3c688443-a42b-48b6-a592-96780fd7aba3"
      },
      "source": [
        "\r\n",
        "from matplotlib import pyplot as plt\r\n",
        "#x=list(range(len(train_Y_t)))\r\n",
        "st=0\r\n",
        "num=100\r\n",
        "x=list(range(st,num))\r\n",
        "plt.plot(x,y_test[st:num],color=\"green\")\r\n",
        "plt.plot(x,predict[st:num],color=\"red\")\r\n",
        "plt.show()\r\n",
        "\r\n"
      ],
      "execution_count": 26,
      "outputs": [
        {
          "output_type": "display_data",
          "data": {
            "image/png": "[encoded data removed]",
            "text/plain": [
              "<Figure size 432x288 with 1 Axes>"
            ]
          },
          "metadata": {
            "tags": [],
            "needs_background": "light"
          }
        }
      ]
    },
    {
      "cell_type": "code",
      "metadata": {
        "id": "W8yS47ulVv0L"
      },
      "source": [
        ""
      ],
      "execution_count": null,
      "outputs": []
    }
  ]
}